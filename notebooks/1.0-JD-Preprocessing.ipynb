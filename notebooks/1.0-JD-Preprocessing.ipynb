{
 "cells": [
  {
   "cell_type": "markdown",
   "metadata": {
    "heading_collapsed": true
   },
   "source": [
    "## imports"
   ]
  },
  {
   "cell_type": "code",
   "execution_count": 1,
   "metadata": {
    "ExecuteTime": {
     "end_time": "2020-04-22T20:20:20.638757Z",
     "start_time": "2020-04-22T20:20:20.266460Z"
    },
    "hidden": true
   },
   "outputs": [],
   "source": [
    "import pandas as pd\n",
    "import numpy as np\n",
    "from sklearn.preprocessing import LabelEncoder\n",
    "from sklearn.preprocessing import RobustScaler"
   ]
  },
  {
   "cell_type": "markdown",
   "metadata": {
    "heading_collapsed": true
   },
   "source": [
    "## read data"
   ]
  },
  {
   "cell_type": "code",
   "execution_count": 2,
   "metadata": {
    "ExecuteTime": {
     "end_time": "2020-04-22T20:20:20.662148Z",
     "start_time": "2020-04-22T20:20:20.640265Z"
    },
    "hidden": true
   },
   "outputs": [],
   "source": [
    "df = pd.read_csv(\"../data/interim/Telco-Customer-Churn_int.csv\")"
   ]
  },
  {
   "cell_type": "markdown",
   "metadata": {},
   "source": [
    "## data cleansing and create buckets"
   ]
  },
  {
   "cell_type": "code",
   "execution_count": 3,
   "metadata": {
    "ExecuteTime": {
     "end_time": "2020-04-22T20:20:20.677748Z",
     "start_time": "2020-04-22T20:20:20.663708Z"
    }
   },
   "outputs": [],
   "source": [
    "# Clean TotalCharges\n",
    "df['TotalCharges'] = df[\"TotalCharges\"].replace(\" \",np.nan)\n",
    "df.dropna(axis=0,inplace=True)\n",
    "df.reset_index(drop=True, inplace=True)\n",
    "df[\"TotalCharges\"] = df[\"TotalCharges\"].astype(float)"
   ]
  },
  {
   "cell_type": "code",
   "execution_count": 4,
   "metadata": {
    "ExecuteTime": {
     "end_time": "2020-04-22T20:20:20.688133Z",
     "start_time": "2020-04-22T20:20:20.679132Z"
    }
   },
   "outputs": [],
   "source": [
    "#replace 'No internet service' to No for the following columns\n",
    "replace_cols = [ 'OnlineSecurity', 'OnlineBackup', 'DeviceProtection',\n",
    "                'TechSupport','StreamingTV', 'StreamingMovies']\n",
    "for col in replace_cols : \n",
    "    df[col]  = df[col].replace({'No internet service' : 'No'})\n",
    "    \n",
    "#replace values\n",
    "df[\"SeniorCitizen\"] = df[\"SeniorCitizen\"].replace({1:\"Yes\",0:\"No\"})"
   ]
  },
  {
   "cell_type": "markdown",
   "metadata": {},
   "source": [
    "## create useful python variables"
   ]
  },
  {
   "cell_type": "code",
   "execution_count": 5,
   "metadata": {
    "ExecuteTime": {
     "end_time": "2020-04-22T20:20:20.743228Z",
     "start_time": "2020-04-22T20:20:20.689918Z"
    }
   },
   "outputs": [],
   "source": [
    "id_col = ['customerID']\n",
    "\n",
    "target_col = [\"Churn\"]\n",
    "\n",
    "categorical_cols = df.nunique()[df.nunique() < 5].keys().tolist()\n",
    "categorical_cols = [x for x in categorical_cols if x not in target_col]\n",
    "\n",
    "numerical_cols = [x for x in df.columns if x not in categorical_cols + target_col + id_col]\n",
    "\n",
    "binary_cols = df.nunique()[df.nunique() == 2].keys().tolist()\n",
    "\n",
    "multi_cols = [i for i in categorical_cols if i not in binary_cols]"
   ]
  },
  {
   "cell_type": "markdown",
   "metadata": {},
   "source": [
    "## Label encoding"
   ]
  },
  {
   "cell_type": "code",
   "execution_count": 6,
   "metadata": {
    "ExecuteTime": {
     "end_time": "2020-04-22T20:20:20.769293Z",
     "start_time": "2020-04-22T20:20:20.745763Z"
    }
   },
   "outputs": [],
   "source": [
    "le = LabelEncoder()\n",
    "for col in binary_cols :\n",
    "    df[col] = le.fit_transform(df[col])"
   ]
  },
  {
   "cell_type": "markdown",
   "metadata": {},
   "source": [
    "## Create dummy variables"
   ]
  },
  {
   "cell_type": "code",
   "execution_count": 7,
   "metadata": {
    "ExecuteTime": {
     "end_time": "2020-04-22T20:20:20.783198Z",
     "start_time": "2020-04-22T20:20:20.770715Z"
    }
   },
   "outputs": [],
   "source": [
    "df = pd.get_dummies(data = df,columns = multi_cols)"
   ]
  },
  {
   "cell_type": "markdown",
   "metadata": {},
   "source": [
    "## Scale numerical columns"
   ]
  },
  {
   "cell_type": "code",
   "execution_count": 8,
   "metadata": {
    "ExecuteTime": {
     "end_time": "2020-04-22T20:20:20.794383Z",
     "start_time": "2020-04-22T20:20:20.785260Z"
    }
   },
   "outputs": [],
   "source": [
    "scl = RobustScaler()\n",
    "scaled = scl.fit_transform(df[numerical_cols])\n",
    "scaled = pd.DataFrame(scaled,columns=numerical_cols)"
   ]
  },
  {
   "cell_type": "code",
   "execution_count": 11,
   "metadata": {
    "ExecuteTime": {
     "end_time": "2020-04-22T20:21:54.316728Z",
     "start_time": "2020-04-22T20:21:54.311144Z"
    }
   },
   "outputs": [],
   "source": [
    "df_original = df.copy()\n",
    "\n",
    "df = df.drop(columns = numerical_cols,axis = 1)\n",
    "df = df.merge(scaled,left_index=True,right_index=True,how = \"left\")"
   ]
  }
 ],
 "metadata": {
  "kernelspec": {
   "display_name": "Python 3",
   "language": "python",
   "name": "python3"
  },
  "language_info": {
   "codemirror_mode": {
    "name": "ipython",
    "version": 3
   },
   "file_extension": ".py",
   "mimetype": "text/x-python",
   "name": "python",
   "nbconvert_exporter": "python",
   "pygments_lexer": "ipython3",
   "version": "3.7.5"
  },
  "latex_envs": {
   "LaTeX_envs_menu_present": true,
   "autoclose": false,
   "autocomplete": true,
   "bibliofile": "biblio.bib",
   "cite_by": "apalike",
   "current_citInitial": 1,
   "eqLabelWithNumbers": true,
   "eqNumInitial": 1,
   "hotkeys": {
    "equation": "Ctrl-E",
    "itemize": "Ctrl-I"
   },
   "labels_anchors": false,
   "latex_user_defs": false,
   "report_style_numbering": false,
   "user_envs_cfg": false
  },
  "varInspector": {
   "cols": {
    "lenName": 16,
    "lenType": 16,
    "lenVar": 40
   },
   "kernels_config": {
    "python": {
     "delete_cmd_postfix": "",
     "delete_cmd_prefix": "del ",
     "library": "var_list.py",
     "varRefreshCmd": "print(var_dic_list())"
    },
    "r": {
     "delete_cmd_postfix": ") ",
     "delete_cmd_prefix": "rm(",
     "library": "var_list.r",
     "varRefreshCmd": "cat(var_dic_list()) "
    }
   },
   "types_to_exclude": [
    "module",
    "function",
    "builtin_function_or_method",
    "instance",
    "_Feature"
   ],
   "window_display": false
  }
 },
 "nbformat": 4,
 "nbformat_minor": 4
}
